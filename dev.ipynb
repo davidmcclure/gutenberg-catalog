{
 "cells": [
  {
   "cell_type": "code",
   "execution_count": 921,
   "metadata": {},
   "outputs": [],
   "source": [
    "import ujson\n",
    "import maya\n",
    "\n",
    "from functools import lru_cache\n",
    "from lxml import etree\n",
    "from glob import glob\n",
    "from tqdm import tqdm"
   ]
  },
  {
   "cell_type": "code",
   "execution_count": 697,
   "metadata": {},
   "outputs": [],
   "source": [
    "def parse_numeric(val):\n",
    "    \"\"\"Try to cast str -> int/float.\n",
    "    \n",
    "    Args:\n",
    "        val (str)\n",
    "    \"\"\"\n",
    "    try: return int(val)\n",
    "    except: pass\n",
    "    \n",
    "    try: return float(val)\n",
    "    except: pass\n",
    "    \n",
    "    return val"
   ]
  },
  {
   "cell_type": "code",
   "execution_count": 904,
   "metadata": {},
   "outputs": [],
   "source": [
    "def parse_datetime(val):\n",
    "    \"\"\"Try to cast str -> datetime.\n",
    "    \"\"\"\n",
    "    try:\n",
    "        return maya.parse(val).datetime()\n",
    "    except:\n",
    "        return val"
   ]
  },
  {
   "cell_type": "code",
   "execution_count": 833,
   "metadata": {},
   "outputs": [],
   "source": [
    "def split_mime(text):\n",
    "    return text.split(';')[0]"
   ]
  },
  {
   "cell_type": "code",
   "execution_count": 699,
   "metadata": {},
   "outputs": [],
   "source": [
    "NAMESPACES = {\n",
    "    'dcterms': 'http://purl.org/dc/terms/',\n",
    "    'pgterms': 'http://www.gutenberg.org/2009/pgterms/',\n",
    "    'rdf': 'http://www.w3.org/1999/02/22-rdf-syntax-ns#',\n",
    "}"
   ]
  },
  {
   "cell_type": "code",
   "execution_count": 905,
   "metadata": {},
   "outputs": [],
   "source": [
    "class BookXML:\n",
    "    \n",
    "    _json_keys = ('id', 'title', 'creators', 'author', 'surname',\n",
    "                  'subjects', 'formats', 'links', 'bookshelves', 'issued', \n",
    "                  'rights', 'downloads', 'publisher', 'language',)\n",
    "    \n",
    "    @classmethod\n",
    "    def from_file(cls, path):\n",
    "        return cls(etree.parse(path))\n",
    "    \n",
    "    def __init__(self, tree):\n",
    "        self.tree = tree\n",
    "        \n",
    "    def xpath(self, query, root=None, first=False, parser=None):\n",
    "        \"\"\"Query text.\n",
    "        \"\"\"\n",
    "        root = root if root is not None else self.tree\n",
    "    \n",
    "        res = root.xpath(query, namespaces=NAMESPACES)\n",
    "\n",
    "        if parser:\n",
    "            res = list(map(parser, res))\n",
    "\n",
    "        if first:\n",
    "            res = res[0] if res else None\n",
    "\n",
    "        return res\n",
    "    \n",
    "    def id(self):\n",
    "        raw = self.xpath('//pgterms:ebook/@rdf:about', first=True)\n",
    "        return int(raw.split('/')[-1])\n",
    "    \n",
    "    def title(self):\n",
    "        return self.xpath('//dcterms:title/text()', first=True)\n",
    "    \n",
    "    def creators_iter(self):\n",
    "        \n",
    "        for root in self.xpath('//dcterms:creator/pgterms:agent'):\n",
    "            \n",
    "            creator = []\n",
    "            for field in self.xpath('pgterms:*', root):\n",
    "                \n",
    "                key = etree.QName(field.tag).localname\n",
    "                \n",
    "                val = (self.xpath('./text()', field, first=True) or\n",
    "                       self.xpath('./@rdf:resource', field, first=True))\n",
    "                \n",
    "                if val:\n",
    "                    creator.append((key, val))\n",
    "                    \n",
    "            yield creator\n",
    "            \n",
    "    @lru_cache()\n",
    "    def creators(self):\n",
    "        return list(self.creators_iter())\n",
    "    \n",
    "    def author(self):\n",
    "        return dict(self.creators()[0])['name']\n",
    "    \n",
    "    def surname(self):\n",
    "        return self.author().split(', ')[0]\n",
    "        \n",
    "    def subjects(self):\n",
    "        return self.xpath('//dcterms:subject//rdf:value/text()')\n",
    "    \n",
    "    def formats_iter(self):\n",
    "        \n",
    "        for root in self.xpath('//dcterms:hasFormat/pgterms:file'):\n",
    "            \n",
    "            url = self.xpath('./@rdf:about', root, first=True)\n",
    "            formats = self.xpath('./dcterms:format//rdf:value/text()', root)\n",
    "            extent = self.xpath('./dcterms:extent/text()', root, first=True, parser=parse_numeric)\n",
    "            \n",
    "            yield dict(url=url, formats=formats, extent=extent)\n",
    "            \n",
    "    @lru_cache()\n",
    "    def formats(self):\n",
    "        return list(self.formats_iter())\n",
    "    \n",
    "    def links(self):\n",
    "        return {\n",
    "            split_mime(f['formats'][0]): f['url']\n",
    "            for f in self.formats() if len(f['formats'])==1\n",
    "        }\n",
    "            \n",
    "    def bookshelves(self):\n",
    "        return self.xpath('//pgterms:bookshelf//rdf:value/text()')\n",
    "\n",
    "    def issued(self):\n",
    "        return self.xpath('//dcterms:issued/text()', first=True, parser=parse_datetime)\n",
    "    \n",
    "    def rights(self):\n",
    "        return self.xpath('//dcterms:rights/text()', first=True)\n",
    "    \n",
    "    def downloads(self):\n",
    "        return self.xpath('//pgterms:downloads/text()', first=True, parser=parse_numeric)\n",
    "    \n",
    "    def publisher(self):\n",
    "        return self.xpath('//dcterms:publisher/text()', first=True)\n",
    "    \n",
    "    def language(self):\n",
    "        return self.xpath('//dcterms:language//rdf:value/text()', first=True)\n",
    "\n",
    "    def to_dict(self):\n",
    "        return {key: getattr(self, key)() for key in self._json_keys}\n",
    "    \n",
    "    def to_json(self):\n",
    "        return ujson.dumps(self.to_dict())"
   ]
  },
  {
   "cell_type": "code",
   "execution_count": 906,
   "metadata": {},
   "outputs": [],
   "source": [
    "b = BookXML.from_file('cache/epub/2600/pg2600.rdf')"
   ]
  },
  {
   "cell_type": "code",
   "execution_count": 907,
   "metadata": {},
   "outputs": [
    {
     "data": {
      "text/plain": [
       "{'id': 2600,\n",
       " 'title': 'War and Peace',\n",
       " 'creators': [[('deathdate', '1910'),\n",
       "   ('name', 'Tolstoy, Leo, graf'),\n",
       "   ('alias', 'Tolstoï, Léon'),\n",
       "   ('birthdate', '1828'),\n",
       "   ('alias', 'Толстой, Лев Николаевич'),\n",
       "   ('alias', 'Tolstoi, Leo'),\n",
       "   ('alias', 'Tolstoy, Graf Leo'),\n",
       "   ('alias', 'Tolstoy, Lev N.'),\n",
       "   ('webpage', 'http://en.wikipedia.org/wiki/Leo_Tolstoy')]],\n",
       " 'author': 'Tolstoy, Leo, graf',\n",
       " 'surname': 'Tolstoy',\n",
       " 'subjects': ['Aristocracy (Social class) -- Russia -- Fiction',\n",
       "  'PG',\n",
       "  'Napoleonic Wars, 1800-1815 -- Campaigns -- Russia -- Fiction',\n",
       "  'War stories',\n",
       "  'Historical fiction',\n",
       "  'Russia -- History -- Alexander I, 1801-1825 -- Fiction'],\n",
       " 'formats': [{'url': 'http://www.gutenberg.org/ebooks/2600.epub.noimages',\n",
       "   'formats': ['application/epub+zip'],\n",
       "   'extent': 1342035},\n",
       "  {'url': 'http://www.gutenberg.org/ebooks/2600.kindle.images',\n",
       "   'formats': ['application/x-mobipocket-ebook'],\n",
       "   'extent': 5470783},\n",
       "  {'url': 'http://www.gutenberg.org/ebooks/2600.kindle.noimages',\n",
       "   'formats': ['application/x-mobipocket-ebook'],\n",
       "   'extent': 5470775},\n",
       "  {'url': 'http://www.gutenberg.org/ebooks/2600.epub.images',\n",
       "   'formats': ['application/epub+zip'],\n",
       "   'extent': 1342035},\n",
       "  {'url': 'http://www.gutenberg.org/files/2600/2600-h.zip',\n",
       "   'formats': ['application/zip', 'text/html; charset=utf-8'],\n",
       "   'extent': 1290237},\n",
       "  {'url': 'http://www.gutenberg.org/ebooks/2600.rdf',\n",
       "   'formats': ['application/rdf+xml'],\n",
       "   'extent': 14409},\n",
       "  {'url': 'http://www.gutenberg.org/files/2600/2600-0.zip',\n",
       "   'formats': ['text/plain; charset=utf-8', 'application/zip'],\n",
       "   'extent': 1226208},\n",
       "  {'url': 'http://www.gutenberg.org/files/2600/2600-0.txt',\n",
       "   'formats': ['text/plain; charset=utf-8'],\n",
       "   'extent': 3359542},\n",
       "  {'url': 'http://www.gutenberg.org/files/2600/2600-h/2600-h.htm',\n",
       "   'formats': ['text/html; charset=utf-8'],\n",
       "   'extent': 4072499}],\n",
       " 'links': {'application/epub+zip': 'http://www.gutenberg.org/ebooks/2600.epub.images',\n",
       "  'application/x-mobipocket-ebook': 'http://www.gutenberg.org/ebooks/2600.kindle.noimages',\n",
       "  'application/rdf+xml': 'http://www.gutenberg.org/ebooks/2600.rdf',\n",
       "  'text/plain': 'http://www.gutenberg.org/files/2600/2600-0.txt',\n",
       "  'text/html': 'http://www.gutenberg.org/files/2600/2600-h/2600-h.htm'},\n",
       " 'bookshelves': ['Napoleonic(Bookshelf)',\n",
       "  'Best Books Ever Listings',\n",
       "  'Historical Fiction',\n",
       "  'Opera',\n",
       "  'Movie Books'],\n",
       " 'issued': datetime.datetime(2001, 4, 1, 0, 0, tzinfo=<UTC>),\n",
       " 'rights': 'Public domain in the USA.',\n",
       " 'downloads': 7243,\n",
       " 'publisher': 'Project Gutenberg',\n",
       " 'language': 'en'}"
      ]
     },
     "execution_count": 907,
     "metadata": {},
     "output_type": "execute_result"
    }
   ],
   "source": [
    "b.to_dict()"
   ]
  },
  {
   "cell_type": "code",
   "execution_count": 908,
   "metadata": {},
   "outputs": [
    {
     "data": {
      "text/plain": [
       "'{\"id\":2600,\"title\":\"War and Peace\",\"creators\":[[[\"deathdate\",\"1910\"],[\"name\",\"Tolstoy, Leo, graf\"],[\"alias\",\"Tolsto\\\\u00ef, L\\\\u00e9on\"],[\"birthdate\",\"1828\"],[\"alias\",\"\\\\u0422\\\\u043e\\\\u043b\\\\u0441\\\\u0442\\\\u043e\\\\u0439, \\\\u041b\\\\u0435\\\\u0432 \\\\u041d\\\\u0438\\\\u043a\\\\u043e\\\\u043b\\\\u0430\\\\u0435\\\\u0432\\\\u0438\\\\u0447\"],[\"alias\",\"Tolstoi, Leo\"],[\"alias\",\"Tolstoy, Graf Leo\"],[\"alias\",\"Tolstoy, Lev N.\"],[\"webpage\",\"http:\\\\/\\\\/en.wikipedia.org\\\\/wiki\\\\/Leo_Tolstoy\"]]],\"author\":\"Tolstoy, Leo, graf\",\"surname\":\"Tolstoy\",\"subjects\":[\"Aristocracy (Social class) -- Russia -- Fiction\",\"PG\",\"Napoleonic Wars, 1800-1815 -- Campaigns -- Russia -- Fiction\",\"War stories\",\"Historical fiction\",\"Russia -- History -- Alexander I, 1801-1825 -- Fiction\"],\"formats\":[{\"url\":\"http:\\\\/\\\\/www.gutenberg.org\\\\/ebooks\\\\/2600.epub.noimages\",\"formats\":[\"application\\\\/epub+zip\"],\"extent\":1342035},{\"url\":\"http:\\\\/\\\\/www.gutenberg.org\\\\/ebooks\\\\/2600.kindle.images\",\"formats\":[\"application\\\\/x-mobipocket-ebook\"],\"extent\":5470783},{\"url\":\"http:\\\\/\\\\/www.gutenberg.org\\\\/ebooks\\\\/2600.kindle.noimages\",\"formats\":[\"application\\\\/x-mobipocket-ebook\"],\"extent\":5470775},{\"url\":\"http:\\\\/\\\\/www.gutenberg.org\\\\/ebooks\\\\/2600.epub.images\",\"formats\":[\"application\\\\/epub+zip\"],\"extent\":1342035},{\"url\":\"http:\\\\/\\\\/www.gutenberg.org\\\\/files\\\\/2600\\\\/2600-h.zip\",\"formats\":[\"application\\\\/zip\",\"text\\\\/html; charset=utf-8\"],\"extent\":1290237},{\"url\":\"http:\\\\/\\\\/www.gutenberg.org\\\\/ebooks\\\\/2600.rdf\",\"formats\":[\"application\\\\/rdf+xml\"],\"extent\":14409},{\"url\":\"http:\\\\/\\\\/www.gutenberg.org\\\\/files\\\\/2600\\\\/2600-0.zip\",\"formats\":[\"text\\\\/plain; charset=utf-8\",\"application\\\\/zip\"],\"extent\":1226208},{\"url\":\"http:\\\\/\\\\/www.gutenberg.org\\\\/files\\\\/2600\\\\/2600-0.txt\",\"formats\":[\"text\\\\/plain; charset=utf-8\"],\"extent\":3359542},{\"url\":\"http:\\\\/\\\\/www.gutenberg.org\\\\/files\\\\/2600\\\\/2600-h\\\\/2600-h.htm\",\"formats\":[\"text\\\\/html; charset=utf-8\"],\"extent\":4072499}],\"links\":{\"application\\\\/epub+zip\":\"http:\\\\/\\\\/www.gutenberg.org\\\\/ebooks\\\\/2600.epub.images\",\"application\\\\/x-mobipocket-ebook\":\"http:\\\\/\\\\/www.gutenberg.org\\\\/ebooks\\\\/2600.kindle.noimages\",\"application\\\\/rdf+xml\":\"http:\\\\/\\\\/www.gutenberg.org\\\\/ebooks\\\\/2600.rdf\",\"text\\\\/plain\":\"http:\\\\/\\\\/www.gutenberg.org\\\\/files\\\\/2600\\\\/2600-0.txt\",\"text\\\\/html\":\"http:\\\\/\\\\/www.gutenberg.org\\\\/files\\\\/2600\\\\/2600-h\\\\/2600-h.htm\"},\"bookshelves\":[\"Napoleonic(Bookshelf)\",\"Best Books Ever Listings\",\"Historical Fiction\",\"Opera\",\"Movie Books\"],\"issued\":986083200,\"rights\":\"Public domain in the USA.\",\"downloads\":7243,\"publisher\":\"Project Gutenberg\",\"language\":\"en\"}'"
      ]
     },
     "execution_count": 908,
     "metadata": {},
     "output_type": "execute_result"
    }
   ],
   "source": [
    "b.to_json()"
   ]
  },
  {
   "cell_type": "code",
   "execution_count": 918,
   "metadata": {},
   "outputs": [],
   "source": [
    "paths = glob('cache/**/*.rdf', recursive=True)"
   ]
  },
  {
   "cell_type": "code",
   "execution_count": 919,
   "metadata": {},
   "outputs": [
    {
     "data": {
      "text/plain": [
       "58377"
      ]
     },
     "execution_count": 919,
     "metadata": {},
     "output_type": "execute_result"
    }
   ],
   "source": [
    "len(paths)"
   ]
  },
  {
   "cell_type": "code",
   "execution_count": null,
   "metadata": {},
   "outputs": [],
   "source": []
  }
 ],
 "metadata": {
  "kernelspec": {
   "display_name": "Python 3",
   "language": "python",
   "name": "python3"
  },
  "language_info": {
   "codemirror_mode": {
    "name": "ipython",
    "version": 3
   },
   "file_extension": ".py",
   "mimetype": "text/x-python",
   "name": "python",
   "nbconvert_exporter": "python",
   "pygments_lexer": "ipython3",
   "version": "3.7.0"
  }
 },
 "nbformat": 4,
 "nbformat_minor": 2
}
