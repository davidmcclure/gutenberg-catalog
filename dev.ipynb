{
 "cells": [
  {
   "cell_type": "code",
   "execution_count": 34,
   "metadata": {},
   "outputs": [],
   "source": [
    "from lxml import etree"
   ]
  },
  {
   "cell_type": "code",
   "execution_count": 303,
   "metadata": {},
   "outputs": [],
   "source": [
    "def numberify(val):\n",
    "    \"\"\"Try to cast str -> int/float.\n",
    "    \n",
    "    Args:\n",
    "        val (str)\n",
    "    \"\"\"\n",
    "    try: return int(val)\n",
    "    except: pass\n",
    "    \n",
    "    try: return float(val)\n",
    "    except: pass\n",
    "    \n",
    "    return val"
   ]
  },
  {
   "cell_type": "code",
   "execution_count": 304,
   "metadata": {},
   "outputs": [],
   "source": [
    "NAMESPACES = {\n",
    "    'dcterms': 'http://purl.org/dc/terms/',\n",
    "    'pgterms': 'http://www.gutenberg.org/2009/pgterms/',\n",
    "    'rdf': 'http://www.w3.org/1999/02/22-rdf-syntax-ns#',\n",
    "}"
   ]
  },
  {
   "cell_type": "code",
   "execution_count": 355,
   "metadata": {},
   "outputs": [],
   "source": [
    "class BookXML:\n",
    "    \n",
    "    @classmethod\n",
    "    def from_file(cls, path):\n",
    "        return cls(etree.parse(path))\n",
    "    \n",
    "    def __init__(self, tree):\n",
    "        self.tree = tree\n",
    "        \n",
    "    def xpath(self, query, root=None):\n",
    "        return (root or self.tree).xpath(query, namespaces=NAMESPACES)\n",
    "    \n",
    "    def id(self):\n",
    "        return self.xpath('//pgterms:ebook/@rdf:about')[0]\n",
    "    \n",
    "    def title(self):\n",
    "        return self.xpath('//dcterms:title/text()')[0]\n",
    "        \n",
    "    def subjects(self):\n",
    "        return self.xpath('//dcterms:subject//rdf:value/text()')\n",
    "    \n",
    "    def creators_iter(self):\n",
    "        \n",
    "        for root in self.xpath('//dcterms:creator/pgterms:agent'):\n",
    "            \n",
    "            fields = root.xpath('pgterms:*', namespaces=NAMESPACES)\n",
    "\n",
    "            yield [\n",
    "                (etree.QName(f.tag).localname, numberify(f.text))\n",
    "                for f in fields if f.text\n",
    "            ]\n",
    "            \n",
    "    def bookshelves(self):\n",
    "        return self.xpath('//pgterms:bookshelf//rdf:value/text()')\n",
    "    \n",
    "    def formats_iter(self):\n",
    "        \n",
    "        for root in self.xpath('//dcterms:hasFormat'):\n",
    "            \n",
    "            fmt = root.xpath('.//dcterms:format//rdf:value/text()', namespaces=NAMESPACES)\n",
    "            extent = root.xpath('.//dcterms:extent/text()', namespaces=NAMESPACES)\n",
    "            modified = root.xpath('.//dcterms:modified/text()', namespaces=NAMESPACES)\n",
    "            \n",
    "            yield dict(format=fmt, extent=extent, modified=modified)"
   ]
  },
  {
   "cell_type": "code",
   "execution_count": 356,
   "metadata": {},
   "outputs": [],
   "source": [
    "b = BookXML.from_file('cache/epub/2600/pg2600.rdf')"
   ]
  },
  {
   "cell_type": "code",
   "execution_count": 357,
   "metadata": {},
   "outputs": [
    {
     "data": {
      "text/plain": [
       "'ebooks/2600'"
      ]
     },
     "execution_count": 357,
     "metadata": {},
     "output_type": "execute_result"
    }
   ],
   "source": [
    "b.id()"
   ]
  },
  {
   "cell_type": "code",
   "execution_count": 358,
   "metadata": {},
   "outputs": [
    {
     "data": {
      "text/plain": [
       "'War and Peace'"
      ]
     },
     "execution_count": 358,
     "metadata": {},
     "output_type": "execute_result"
    }
   ],
   "source": [
    "b.title()"
   ]
  },
  {
   "cell_type": "code",
   "execution_count": 359,
   "metadata": {},
   "outputs": [
    {
     "data": {
      "text/plain": [
       "['Aristocracy (Social class) -- Russia -- Fiction',\n",
       " 'PG',\n",
       " 'Napoleonic Wars, 1800-1815 -- Campaigns -- Russia -- Fiction',\n",
       " 'War stories',\n",
       " 'Historical fiction',\n",
       " 'Russia -- History -- Alexander I, 1801-1825 -- Fiction']"
      ]
     },
     "execution_count": 359,
     "metadata": {},
     "output_type": "execute_result"
    }
   ],
   "source": [
    "b.subjects()"
   ]
  },
  {
   "cell_type": "code",
   "execution_count": 360,
   "metadata": {},
   "outputs": [
    {
     "data": {
      "text/plain": [
       "[[('deathdate', 1910),\n",
       "  ('name', 'Tolstoy, Leo, graf'),\n",
       "  ('alias', 'Tolstoï, Léon'),\n",
       "  ('birthdate', 1828),\n",
       "  ('alias', 'Толстой, Лев Николаевич'),\n",
       "  ('alias', 'Tolstoi, Leo'),\n",
       "  ('alias', 'Tolstoy, Graf Leo'),\n",
       "  ('alias', 'Tolstoy, Lev N.')]]"
      ]
     },
     "execution_count": 360,
     "metadata": {},
     "output_type": "execute_result"
    }
   ],
   "source": [
    "list(b.creators_iter())"
   ]
  },
  {
   "cell_type": "code",
   "execution_count": 361,
   "metadata": {},
   "outputs": [
    {
     "data": {
      "text/plain": [
       "['Napoleonic(Bookshelf)',\n",
       " 'Best Books Ever Listings',\n",
       " 'Historical Fiction',\n",
       " 'Opera',\n",
       " 'Movie Books']"
      ]
     },
     "execution_count": 361,
     "metadata": {},
     "output_type": "execute_result"
    }
   ],
   "source": [
    "b.bookshelves()"
   ]
  },
  {
   "cell_type": "code",
   "execution_count": 362,
   "metadata": {},
   "outputs": [
    {
     "data": {
      "text/plain": [
       "[{'format': ['application/epub+zip'],\n",
       "  'extent': ['1342035'],\n",
       "  'modified': ['2018-11-02T01:37:23.869730']},\n",
       " {'format': ['application/x-mobipocket-ebook'],\n",
       "  'extent': ['5470783'],\n",
       "  'modified': ['2018-11-02T01:37:36.164505']},\n",
       " {'format': ['application/x-mobipocket-ebook'],\n",
       "  'extent': ['5470775'],\n",
       "  'modified': ['2018-11-02T01:37:48.416302']},\n",
       " {'format': ['application/epub+zip'],\n",
       "  'extent': ['1342035'],\n",
       "  'modified': ['2018-11-02T01:37:22.847773']},\n",
       " {'format': ['application/zip', 'text/html; charset=utf-8'],\n",
       "  'extent': ['1290237'],\n",
       "  'modified': ['2018-07-13T07:04:14']},\n",
       " {'format': ['application/rdf+xml'],\n",
       "  'extent': ['14409'],\n",
       "  'modified': ['2018-11-22T05:01:39.923247']},\n",
       " {'format': ['text/plain; charset=utf-8', 'application/zip'],\n",
       "  'extent': ['1226208'],\n",
       "  'modified': ['2018-07-13T07:04:14']},\n",
       " {'format': ['text/plain; charset=utf-8'],\n",
       "  'extent': ['3359542'],\n",
       "  'modified': ['2018-07-13T07:02:18']},\n",
       " {'format': ['text/html; charset=utf-8'],\n",
       "  'extent': ['4072499'],\n",
       "  'modified': ['2018-07-13T07:03:16']}]"
      ]
     },
     "execution_count": 362,
     "metadata": {},
     "output_type": "execute_result"
    }
   ],
   "source": [
    "list(b.formats_iter())"
   ]
  },
  {
   "cell_type": "code",
   "execution_count": null,
   "metadata": {},
   "outputs": [],
   "source": []
  }
 ],
 "metadata": {
  "kernelspec": {
   "display_name": "Python 3",
   "language": "python",
   "name": "python3"
  },
  "language_info": {
   "codemirror_mode": {
    "name": "ipython",
    "version": 3
   },
   "file_extension": ".py",
   "mimetype": "text/x-python",
   "name": "python",
   "nbconvert_exporter": "python",
   "pygments_lexer": "ipython3",
   "version": "3.7.0"
  }
 },
 "nbformat": 4,
 "nbformat_minor": 2
}
