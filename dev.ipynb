{
 "cells": [
  {
   "cell_type": "code",
   "execution_count": 34,
   "metadata": {},
   "outputs": [],
   "source": [
    "from lxml import etree"
   ]
  },
  {
   "cell_type": "code",
   "execution_count": 69,
   "metadata": {},
   "outputs": [],
   "source": [
    "NAMESPACES = {\n",
    "    'dcterms': 'http://purl.org/dc/terms/',\n",
    "    'pgterms': 'http://www.gutenberg.org/2009/pgterms/',\n",
    "    'rdf': 'http://www.w3.org/1999/02/22-rdf-syntax-ns#',\n",
    "}"
   ]
  },
  {
   "cell_type": "code",
   "execution_count": null,
   "metadata": {},
   "outputs": [],
   "source": [
    "def safe_int(val):\n",
    "    try: return int(val)\n",
    "    "
   ]
  },
  {
   "cell_type": "code",
   "execution_count": 149,
   "metadata": {},
   "outputs": [],
   "source": [
    "class BookXML:\n",
    "    \n",
    "    @classmethod\n",
    "    def from_file(cls, path):\n",
    "        return cls(etree.parse(path))\n",
    "    \n",
    "    def __init__(self, tree):\n",
    "        self.tree = tree\n",
    "        \n",
    "    def xpath(self, query, root=None):\n",
    "        return (root or self.tree).xpath(query, namespaces=NAMESPACES)\n",
    "    \n",
    "    def title(self):\n",
    "        return self.xpath('//dcterms:title/text()')[0]\n",
    "        \n",
    "    def subjects(self):\n",
    "        return self.xpath('//dcterms:subject//rdf:value/text()')\n",
    "    \n",
    "    def creators_iter(self):\n",
    "        \n",
    "        for root in self.xpath('//dcterms:creator/pgterms:agent'):\n",
    "            \n",
    "            fields = []\n",
    "            for f in self.xpath('pgterms:*', root):\n",
    "                key = etree.QName(f.tag).localname\n",
    "                val = \n",
    "            \n",
    "            yield [\n",
    "                (etree.QName(f.tag).localname, f.text)\n",
    "                for f in self.xpath('pgterms:*', root)\n",
    "            ]"
   ]
  },
  {
   "cell_type": "code",
   "execution_count": 150,
   "metadata": {},
   "outputs": [],
   "source": [
    "b = BookXML.from_file('cache/epub/2600/pg2600.rdf')"
   ]
  },
  {
   "cell_type": "code",
   "execution_count": 151,
   "metadata": {},
   "outputs": [
    {
     "data": {
      "text/plain": [
       "'War and Peace'"
      ]
     },
     "execution_count": 151,
     "metadata": {},
     "output_type": "execute_result"
    }
   ],
   "source": [
    "b.title()"
   ]
  },
  {
   "cell_type": "code",
   "execution_count": 152,
   "metadata": {},
   "outputs": [
    {
     "data": {
      "text/plain": [
       "['Aristocracy (Social class) -- Russia -- Fiction',\n",
       " 'PG',\n",
       " 'Napoleonic Wars, 1800-1815 -- Campaigns -- Russia -- Fiction',\n",
       " 'War stories',\n",
       " 'Historical fiction',\n",
       " 'Russia -- History -- Alexander I, 1801-1825 -- Fiction']"
      ]
     },
     "execution_count": 152,
     "metadata": {},
     "output_type": "execute_result"
    }
   ],
   "source": [
    "b.subjects()"
   ]
  },
  {
   "cell_type": "code",
   "execution_count": 153,
   "metadata": {},
   "outputs": [
    {
     "name": "stderr",
     "output_type": "stream",
     "text": [
      "/Users/dclure/.local/share/virtualenvs/gutenberg-catalog-rZ4QfrYV/lib/python3.7/site-packages/ipykernel_launcher.py:11: FutureWarning: The behavior of this method will change in future versions. Use specific 'len(elem)' or 'elem is not None' test instead.\n",
      "  # This is added back by InteractiveShellApp.init_path()\n"
     ]
    },
    {
     "data": {
      "text/plain": [
       "[[('deathdate', '1910'),\n",
       "  ('name', 'Tolstoy, Leo, graf'),\n",
       "  ('alias', 'Tolstoï, Léon'),\n",
       "  ('birthdate', '1828'),\n",
       "  ('alias', 'Толстой, Лев Николаевич'),\n",
       "  ('alias', 'Tolstoi, Leo'),\n",
       "  ('alias', 'Tolstoy, Graf Leo'),\n",
       "  ('alias', 'Tolstoy, Lev N.'),\n",
       "  ('webpage', None)]]"
      ]
     },
     "execution_count": 153,
     "metadata": {},
     "output_type": "execute_result"
    }
   ],
   "source": [
    "list(b.creators_iter())"
   ]
  },
  {
   "cell_type": "code",
   "execution_count": 118,
   "metadata": {},
   "outputs": [],
   "source": [
    "creator = wp.tree.xpath('//dcterms:creator/pgterms:agent', namespaces=NAMESPACES)[0]"
   ]
  },
  {
   "cell_type": "code",
   "execution_count": 143,
   "metadata": {},
   "outputs": [
    {
     "ename": "XPathEvalError",
     "evalue": "Invalid expression",
     "output_type": "error",
     "traceback": [
      "\u001b[0;31m---------------------------------------------------------------------------\u001b[0m",
      "\u001b[0;31mXPathEvalError\u001b[0m                            Traceback (most recent call last)",
      "\u001b[0;32m<ipython-input-143-a66857b63b2b>\u001b[0m in \u001b[0;36m<module>\u001b[0;34m\u001b[0m\n\u001b[0;32m----> 1\u001b[0;31m \u001b[0;32mfor\u001b[0m \u001b[0mf\u001b[0m \u001b[0;32min\u001b[0m \u001b[0mcreator\u001b[0m\u001b[0;34m.\u001b[0m\u001b[0mxpath\u001b[0m\u001b[0;34m(\u001b[0m\u001b[0;34m'pgterms:'\u001b[0m\u001b[0;34m,\u001b[0m \u001b[0mnamespaces\u001b[0m\u001b[0;34m=\u001b[0m\u001b[0mNAMESPACES\u001b[0m\u001b[0;34m)\u001b[0m\u001b[0;34m:\u001b[0m\u001b[0;34m\u001b[0m\u001b[0m\n\u001b[0m\u001b[1;32m      2\u001b[0m     \u001b[0mprint\u001b[0m\u001b[0;34m(\u001b[0m\u001b[0mf\u001b[0m\u001b[0;34m.\u001b[0m\u001b[0mtag\u001b[0m\u001b[0;34m,\u001b[0m \u001b[0mf\u001b[0m\u001b[0;34m.\u001b[0m\u001b[0mtext\u001b[0m\u001b[0;34m)\u001b[0m\u001b[0;34m\u001b[0m\u001b[0m\n",
      "\u001b[0;32msrc/lxml/etree.pyx\u001b[0m in \u001b[0;36mlxml.etree._Element.xpath\u001b[0;34m()\u001b[0m\n",
      "\u001b[0;32msrc/lxml/xpath.pxi\u001b[0m in \u001b[0;36mlxml.etree.XPathElementEvaluator.__call__\u001b[0;34m()\u001b[0m\n",
      "\u001b[0;32msrc/lxml/xpath.pxi\u001b[0m in \u001b[0;36mlxml.etree._XPathEvaluatorBase._handle_result\u001b[0;34m()\u001b[0m\n",
      "\u001b[0;31mXPathEvalError\u001b[0m: Invalid expression"
     ]
    }
   ],
   "source": [
    "for f in creator.xpath('pgterms:', namespaces=NAMESPACES):\n",
    "    print(f.tag, f.text)"
   ]
  },
  {
   "cell_type": "code",
   "execution_count": 120,
   "metadata": {},
   "outputs": [],
   "source": [
    "f = creator.xpath('pgterms:*', namespaces=NAMESPACES)[0]"
   ]
  },
  {
   "cell_type": "code",
   "execution_count": 138,
   "metadata": {},
   "outputs": [
    {
     "data": {
      "text/plain": [
       "'deathdate'"
      ]
     },
     "execution_count": 138,
     "metadata": {},
     "output_type": "execute_result"
    }
   ],
   "source": [
    "etree.QName(f.tag).localname"
   ]
  },
  {
   "cell_type": "code",
   "execution_count": 74,
   "metadata": {},
   "outputs": [
    {
     "data": {
      "text/plain": [
       "[<Element {http://www.gutenberg.org/2009/pgterms/}ebook at 0x10e03fb88>]"
      ]
     },
     "execution_count": 74,
     "metadata": {},
     "output_type": "execute_result"
    }
   ],
   "source": [
    "wp.tree.xpath('pgterms:*', namespaces=NAMESPACES)"
   ]
  },
  {
   "cell_type": "code",
   "execution_count": 77,
   "metadata": {},
   "outputs": [
    {
     "data": {
      "text/plain": [
       "['Aristocracy (Social class) -- Russia -- Fiction',\n",
       " 'PG',\n",
       " 'Napoleonic Wars, 1800-1815 -- Campaigns -- Russia -- Fiction',\n",
       " 'War stories',\n",
       " 'Historical fiction',\n",
       " 'Russia -- History -- Alexander I, 1801-1825 -- Fiction']"
      ]
     },
     "execution_count": 77,
     "metadata": {},
     "output_type": "execute_result"
    }
   ],
   "source": [
    "wp.tree.xpath('//dcterms:subject//rdf:value/text()', namespaces=NAMESPACES)"
   ]
  },
  {
   "cell_type": "code",
   "execution_count": 183,
   "metadata": {},
   "outputs": [],
   "source": [
    "from rdflib import Graph, Namespace"
   ]
  },
  {
   "cell_type": "code",
   "execution_count": 184,
   "metadata": {},
   "outputs": [],
   "source": [
    "g = Graph()"
   ]
  },
  {
   "cell_type": "code",
   "execution_count": 156,
   "metadata": {},
   "outputs": [],
   "source": [
    "b = g.parse('cache/epub/2600/pg2600.rdf')"
   ]
  },
  {
   "cell_type": "code",
   "execution_count": 195,
   "metadata": {},
   "outputs": [],
   "source": [
    "dcterms = Namespace('http://purl.org/dc/terms/')"
   ]
  },
  {
   "cell_type": "code",
   "execution_count": 202,
   "metadata": {},
   "outputs": [
    {
     "data": {
      "text/plain": [
       "rdflib.term.URIRef('http://purl.org/dc/terms/LCSH')"
      ]
     },
     "execution_count": 202,
     "metadata": {},
     "output_type": "execute_result"
    }
   ],
   "source": [
    "dcterms.LCSH"
   ]
  },
  {
   "cell_type": "code",
   "execution_count": 198,
   "metadata": {},
   "outputs": [
    {
     "data": {
      "text/plain": [
       "'War and Peace'"
      ]
     },
     "execution_count": 198,
     "metadata": {},
     "output_type": "execute_result"
    }
   ],
   "source": [
    "list(b.objects(predicate=dcterms.title))[0].value"
   ]
  },
  {
   "cell_type": "code",
   "execution_count": 215,
   "metadata": {},
   "outputs": [
    {
     "data": {
      "text/plain": [
       "'en.wikipedia'"
      ]
     },
     "execution_count": 215,
     "metadata": {},
     "output_type": "execute_result"
    }
   ],
   "source": [
    "list(b.objects(predicate=dcterms.description))[0].value"
   ]
  },
  {
   "cell_type": "code",
   "execution_count": 216,
   "metadata": {},
   "outputs": [],
   "source": [
    "c = list(b.objects(predicate=dcterms.creator))[0]"
   ]
  },
  {
   "cell_type": "code",
   "execution_count": 236,
   "metadata": {},
   "outputs": [
    {
     "name": "stdout",
     "output_type": "stream",
     "text": [
      "http://www.gutenberg.org/2009/pgterms/deathdate 1910\n",
      "http://www.gutenberg.org/2009/pgterms/alias Tolstoï, Léon\n",
      "http://www.gutenberg.org/2009/pgterms/alias Tolstoy, Graf Leo\n",
      "http://www.gutenberg.org/2009/pgterms/alias Tolstoy, Lev N.\n",
      "http://www.gutenberg.org/2009/pgterms/alias Толстой, Лев Николаевич\n",
      "http://www.gutenberg.org/2009/pgterms/name Tolstoy, Leo, graf\n",
      "http://www.gutenberg.org/2009/pgterms/birthdate 1828\n",
      "http://www.gutenberg.org/2009/pgterms/alias Tolstoi, Leo\n",
      "http://www.gutenberg.org/2009/pgterms/webpage http://en.wikipedia.org/wiki/Leo_Tolstoy\n",
      "http://www.w3.org/1999/02/22-rdf-syntax-ns#type http://www.gutenberg.org/2009/pgterms/agent\n"
     ]
    }
   ],
   "source": [
    "for p, o in b.predicate_objects(subject=c):\n",
    "    print(p, o.toPython())"
   ]
  }
 ],
 "metadata": {
  "kernelspec": {
   "display_name": "Python 3",
   "language": "python",
   "name": "python3"
  },
  "language_info": {
   "codemirror_mode": {
    "name": "ipython",
    "version": 3
   },
   "file_extension": ".py",
   "mimetype": "text/x-python",
   "name": "python",
   "nbconvert_exporter": "python",
   "pygments_lexer": "ipython3",
   "version": "3.7.0"
  }
 },
 "nbformat": 4,
 "nbformat_minor": 2
}
