{
 "cells": [
  {
   "cell_type": "code",
   "execution_count": 713,
   "metadata": {},
   "outputs": [],
   "source": [
    "import maya\n",
    "\n",
    "from lxml import etree\n",
    "from functools import lru_cache"
   ]
  },
  {
   "cell_type": "code",
   "execution_count": 697,
   "metadata": {},
   "outputs": [],
   "source": [
    "def parse_numeric(val):\n",
    "    \"\"\"Try to cast str -> int/float.\n",
    "    \n",
    "    Args:\n",
    "        val (str)\n",
    "    \"\"\"\n",
    "    try: return int(val)\n",
    "    except: pass\n",
    "    \n",
    "    try: return float(val)\n",
    "    except: pass\n",
    "    \n",
    "    return val"
   ]
  },
  {
   "cell_type": "code",
   "execution_count": 698,
   "metadata": {},
   "outputs": [],
   "source": [
    "def parse_datetime(val):\n",
    "    \"\"\"Try to cast str -> datetime.\n",
    "    \"\"\"\n",
    "    try:\n",
    "        return maya.parse(val).datetime()\n",
    "    except:\n",
    "        return val"
   ]
  },
  {
   "cell_type": "code",
   "execution_count": 833,
   "metadata": {},
   "outputs": [],
   "source": [
    "def split_mime(text):\n",
    "    return text.split(';')[0]"
   ]
  },
  {
   "cell_type": "code",
   "execution_count": 699,
   "metadata": {},
   "outputs": [],
   "source": [
    "NAMESPACES = {\n",
    "    'dcterms': 'http://purl.org/dc/terms/',\n",
    "    'pgterms': 'http://www.gutenberg.org/2009/pgterms/',\n",
    "    'rdf': 'http://www.w3.org/1999/02/22-rdf-syntax-ns#',\n",
    "}"
   ]
  },
  {
   "cell_type": "code",
   "execution_count": 816,
   "metadata": {},
   "outputs": [],
   "source": [
    "class BookXML:\n",
    "    \n",
    "    @classmethod\n",
    "    def from_file(cls, path):\n",
    "        return cls(etree.parse(path))\n",
    "    \n",
    "    def __init__(self, tree):\n",
    "        self.tree = tree\n",
    "        \n",
    "    def xpath(self, query, root=None, first=False, parser=None):\n",
    "        \"\"\"Query text.\n",
    "        \"\"\"\n",
    "        root = root if root is not None else self.tree\n",
    "    \n",
    "        res = root.xpath(query, namespaces=NAMESPACES)\n",
    "\n",
    "        if parser:\n",
    "            res = list(map(parser, res))\n",
    "\n",
    "        if first:\n",
    "            res = res[0] if res else None\n",
    "\n",
    "        return res\n",
    "    \n",
    "    def id(self):\n",
    "        raw = self.xpath('//pgterms:ebook/@rdf:about', first=True)\n",
    "        return int(raw.split('/')[-1])\n",
    "    \n",
    "    def title(self):\n",
    "        return self.xpath('//dcterms:title/text()', first=True)\n",
    "        \n",
    "    def subjects(self):\n",
    "        return self.xpath('//dcterms:subject//rdf:value/text()')\n",
    "    \n",
    "    def creators_iter(self):\n",
    "        \n",
    "        for root in self.xpath('//dcterms:creator/pgterms:agent'):\n",
    "            \n",
    "            creator = []\n",
    "            for field in self.xpath('pgterms:*', root):\n",
    "                \n",
    "                key = etree.QName(field.tag).localname\n",
    "                \n",
    "                val = (self.xpath('./text()', field, first=True) or\n",
    "                       self.xpath('./@rdf:resource', field, first=True))\n",
    "                \n",
    "                if val:\n",
    "                    creator.append((key, val))\n",
    "                    \n",
    "            yield creator\n",
    "            \n",
    "    @lru_cache()\n",
    "    def creators(self):\n",
    "        return list(self.creators_iter())\n",
    "    \n",
    "    def formats_iter(self):\n",
    "        \n",
    "        for root in self.xpath('//dcterms:hasFormat/pgterms:file'):\n",
    "            \n",
    "            url = self.xpath('./@rdf:about', root, first=True)\n",
    "            formats = self.xpath('./dcterms:format//rdf:value/text()', root)\n",
    "            extent = self.xpath('./dcterms:extent/text()', root, first=True, parser=parse_numeric)\n",
    "            \n",
    "            yield dict(url=url, formats=formats, extent=extent)\n",
    "            \n",
    "    @lru_cache()\n",
    "    def formats(self):\n",
    "        return list(self.formats_iter())\n",
    "    \n",
    "    def links(self):\n",
    "        return {split_mime(f['formats'][0]): f['url'] for f in self.formats() if len(f['formats'])==1}\n",
    "            \n",
    "    def bookshelves(self):\n",
    "        return self.xpath('//pgterms:bookshelf//rdf:value/text()')\n",
    "\n",
    "    def issued(self):\n",
    "        return self.xpath('//dcterms:issued/text()', first=True, parser=parse_datetime)\n",
    "    \n",
    "    def rights(self):\n",
    "        return self.xpath('//dcterms:rights/text()', first=True)\n",
    "    \n",
    "    def downloads(self):\n",
    "        return self.xpath('//pgterms:downloads/text()', first=True, parser=parse_numeric)\n",
    "    \n",
    "    def publisher(self):\n",
    "        return self.xpath('//dcterms:publisher/text()', first=True)\n",
    "    \n",
    "    def language(self):\n",
    "        return self.xpath('//dcterms:language//rdf:value/text()', first=True)\n",
    "    \n",
    "    def author(self):\n",
    "        return dict(self.creators()[0])['name']\n",
    "    \n",
    "    def surname(self):\n",
    "        return self.author().split(', ')[0]\n",
    "\n",
    "    # TODO: formats?"
   ]
  },
  {
   "cell_type": "code",
   "execution_count": 817,
   "metadata": {},
   "outputs": [],
   "source": [
    "b = BookXML.from_file('cache/epub/2600/pg2600.rdf')"
   ]
  },
  {
   "cell_type": "code",
   "execution_count": 818,
   "metadata": {},
   "outputs": [
    {
     "data": {
      "text/plain": [
       "2600"
      ]
     },
     "execution_count": 818,
     "metadata": {},
     "output_type": "execute_result"
    }
   ],
   "source": [
    "b.id()"
   ]
  },
  {
   "cell_type": "code",
   "execution_count": 819,
   "metadata": {},
   "outputs": [
    {
     "data": {
      "text/plain": [
       "'War and Peace'"
      ]
     },
     "execution_count": 819,
     "metadata": {},
     "output_type": "execute_result"
    }
   ],
   "source": [
    "b.title()"
   ]
  },
  {
   "cell_type": "code",
   "execution_count": 820,
   "metadata": {},
   "outputs": [
    {
     "data": {
      "text/plain": [
       "['Aristocracy (Social class) -- Russia -- Fiction',\n",
       " 'PG',\n",
       " 'Napoleonic Wars, 1800-1815 -- Campaigns -- Russia -- Fiction',\n",
       " 'War stories',\n",
       " 'Historical fiction',\n",
       " 'Russia -- History -- Alexander I, 1801-1825 -- Fiction']"
      ]
     },
     "execution_count": 820,
     "metadata": {},
     "output_type": "execute_result"
    }
   ],
   "source": [
    "b.subjects()"
   ]
  },
  {
   "cell_type": "code",
   "execution_count": 821,
   "metadata": {},
   "outputs": [
    {
     "data": {
      "text/plain": [
       "[[('deathdate', '1910'),\n",
       "  ('name', 'Tolstoy, Leo, graf'),\n",
       "  ('alias', 'Tolstoï, Léon'),\n",
       "  ('birthdate', '1828'),\n",
       "  ('alias', 'Толстой, Лев Николаевич'),\n",
       "  ('alias', 'Tolstoi, Leo'),\n",
       "  ('alias', 'Tolstoy, Graf Leo'),\n",
       "  ('alias', 'Tolstoy, Lev N.'),\n",
       "  ('webpage', 'http://en.wikipedia.org/wiki/Leo_Tolstoy')]]"
      ]
     },
     "execution_count": 821,
     "metadata": {},
     "output_type": "execute_result"
    }
   ],
   "source": [
    "b.creators()"
   ]
  },
  {
   "cell_type": "code",
   "execution_count": 822,
   "metadata": {},
   "outputs": [
    {
     "data": {
      "text/plain": [
       "['Napoleonic(Bookshelf)',\n",
       " 'Best Books Ever Listings',\n",
       " 'Historical Fiction',\n",
       " 'Opera',\n",
       " 'Movie Books']"
      ]
     },
     "execution_count": 822,
     "metadata": {},
     "output_type": "execute_result"
    }
   ],
   "source": [
    "b.bookshelves()"
   ]
  },
  {
   "cell_type": "code",
   "execution_count": 823,
   "metadata": {},
   "outputs": [
    {
     "data": {
      "text/plain": [
       "datetime.datetime(2001, 4, 1, 0, 0, tzinfo=<UTC>)"
      ]
     },
     "execution_count": 823,
     "metadata": {},
     "output_type": "execute_result"
    }
   ],
   "source": [
    "b.issued()"
   ]
  },
  {
   "cell_type": "code",
   "execution_count": 824,
   "metadata": {},
   "outputs": [
    {
     "data": {
      "text/plain": [
       "'Public domain in the USA.'"
      ]
     },
     "execution_count": 824,
     "metadata": {},
     "output_type": "execute_result"
    }
   ],
   "source": [
    "b.rights()"
   ]
  },
  {
   "cell_type": "code",
   "execution_count": 825,
   "metadata": {},
   "outputs": [
    {
     "data": {
      "text/plain": [
       "7243"
      ]
     },
     "execution_count": 825,
     "metadata": {},
     "output_type": "execute_result"
    }
   ],
   "source": [
    "b.downloads()"
   ]
  },
  {
   "cell_type": "code",
   "execution_count": 826,
   "metadata": {},
   "outputs": [
    {
     "data": {
      "text/plain": [
       "'Project Gutenberg'"
      ]
     },
     "execution_count": 826,
     "metadata": {},
     "output_type": "execute_result"
    }
   ],
   "source": [
    "b.publisher()"
   ]
  },
  {
   "cell_type": "code",
   "execution_count": 827,
   "metadata": {},
   "outputs": [
    {
     "data": {
      "text/plain": [
       "'en'"
      ]
     },
     "execution_count": 827,
     "metadata": {},
     "output_type": "execute_result"
    }
   ],
   "source": [
    "b.language()"
   ]
  },
  {
   "cell_type": "code",
   "execution_count": 828,
   "metadata": {},
   "outputs": [
    {
     "data": {
      "text/plain": [
       "datetime.datetime(2001, 4, 1, 0, 0, tzinfo=<UTC>)"
      ]
     },
     "execution_count": 828,
     "metadata": {},
     "output_type": "execute_result"
    }
   ],
   "source": [
    "b.issued()"
   ]
  },
  {
   "cell_type": "code",
   "execution_count": 829,
   "metadata": {},
   "outputs": [
    {
     "data": {
      "text/plain": [
       "'Tolstoy, Leo, graf'"
      ]
     },
     "execution_count": 829,
     "metadata": {},
     "output_type": "execute_result"
    }
   ],
   "source": [
    "b.author()"
   ]
  },
  {
   "cell_type": "code",
   "execution_count": 830,
   "metadata": {},
   "outputs": [
    {
     "data": {
      "text/plain": [
       "'Tolstoy'"
      ]
     },
     "execution_count": 830,
     "metadata": {},
     "output_type": "execute_result"
    }
   ],
   "source": [
    "b.surname()"
   ]
  },
  {
   "cell_type": "code",
   "execution_count": 831,
   "metadata": {},
   "outputs": [
    {
     "data": {
      "text/plain": [
       "[{'url': 'http://www.gutenberg.org/ebooks/2600.epub.noimages',\n",
       "  'formats': ['application/epub+zip'],\n",
       "  'extent': 1342035},\n",
       " {'url': 'http://www.gutenberg.org/ebooks/2600.kindle.images',\n",
       "  'formats': ['application/x-mobipocket-ebook'],\n",
       "  'extent': 5470783},\n",
       " {'url': 'http://www.gutenberg.org/ebooks/2600.kindle.noimages',\n",
       "  'formats': ['application/x-mobipocket-ebook'],\n",
       "  'extent': 5470775},\n",
       " {'url': 'http://www.gutenberg.org/ebooks/2600.epub.images',\n",
       "  'formats': ['application/epub+zip'],\n",
       "  'extent': 1342035},\n",
       " {'url': 'http://www.gutenberg.org/files/2600/2600-h.zip',\n",
       "  'formats': ['application/zip', 'text/html; charset=utf-8'],\n",
       "  'extent': 1290237},\n",
       " {'url': 'http://www.gutenberg.org/ebooks/2600.rdf',\n",
       "  'formats': ['application/rdf+xml'],\n",
       "  'extent': 14409},\n",
       " {'url': 'http://www.gutenberg.org/files/2600/2600-0.zip',\n",
       "  'formats': ['text/plain; charset=utf-8', 'application/zip'],\n",
       "  'extent': 1226208},\n",
       " {'url': 'http://www.gutenberg.org/files/2600/2600-0.txt',\n",
       "  'formats': ['text/plain; charset=utf-8'],\n",
       "  'extent': 3359542},\n",
       " {'url': 'http://www.gutenberg.org/files/2600/2600-h/2600-h.htm',\n",
       "  'formats': ['text/html; charset=utf-8'],\n",
       "  'extent': 4072499}]"
      ]
     },
     "execution_count": 831,
     "metadata": {},
     "output_type": "execute_result"
    }
   ],
   "source": [
    "b.formats()"
   ]
  },
  {
   "cell_type": "code",
   "execution_count": 832,
   "metadata": {},
   "outputs": [
    {
     "data": {
      "text/plain": [
       "{'application/epub+zip': 'http://www.gutenberg.org/ebooks/2600.epub.images',\n",
       " 'application/x-mobipocket-ebook': 'http://www.gutenberg.org/ebooks/2600.kindle.noimages',\n",
       " 'application/rdf+xml': 'http://www.gutenberg.org/ebooks/2600.rdf',\n",
       " 'text/plain; charset=utf-8': 'http://www.gutenberg.org/files/2600/2600-0.txt',\n",
       " 'text/html; charset=utf-8': 'http://www.gutenberg.org/files/2600/2600-h/2600-h.htm'}"
      ]
     },
     "execution_count": 832,
     "metadata": {},
     "output_type": "execute_result"
    }
   ],
   "source": [
    "b.links()"
   ]
  },
  {
   "cell_type": "code",
   "execution_count": null,
   "metadata": {},
   "outputs": [],
   "source": []
  }
 ],
 "metadata": {
  "kernelspec": {
   "display_name": "Python 3",
   "language": "python",
   "name": "python3"
  },
  "language_info": {
   "codemirror_mode": {
    "name": "ipython",
    "version": 3
   },
   "file_extension": ".py",
   "mimetype": "text/x-python",
   "name": "python",
   "nbconvert_exporter": "python",
   "pygments_lexer": "ipython3",
   "version": "3.7.0"
  }
 },
 "nbformat": 4,
 "nbformat_minor": 2
}
