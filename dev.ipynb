{
 "cells": [
  {
   "cell_type": "code",
   "execution_count": 1,
   "metadata": {},
   "outputs": [],
   "source": [
    "from gutenberg_catalog.sources import BookXML"
   ]
  },
  {
   "cell_type": "code",
   "execution_count": 2,
   "metadata": {},
   "outputs": [],
   "source": [
    "b = BookXML.from_file('cache/epub/2600/pg2600.rdf')"
   ]
  },
  {
   "cell_type": "code",
   "execution_count": 4,
   "metadata": {},
   "outputs": [
    {
     "data": {
      "text/plain": [
       "{'id': 2600,\n",
       " 'title': 'War and Peace',\n",
       " 'creators': [[('deathdate', '1910'),\n",
       "   ('name', 'Tolstoy, Leo, graf'),\n",
       "   ('alias', 'Tolstoï, Léon'),\n",
       "   ('birthdate', '1828'),\n",
       "   ('alias', 'Толстой, Лев Николаевич'),\n",
       "   ('alias', 'Tolstoi, Leo'),\n",
       "   ('alias', 'Tolstoy, Graf Leo'),\n",
       "   ('alias', 'Tolstoy, Lev N.'),\n",
       "   ('webpage', 'http://en.wikipedia.org/wiki/Leo_Tolstoy')]],\n",
       " 'author': 'Tolstoy, Leo, graf',\n",
       " 'surname': 'Tolstoy',\n",
       " 'subjects': ['Aristocracy (Social class) -- Russia -- Fiction',\n",
       "  'PG',\n",
       "  'Napoleonic Wars, 1800-1815 -- Campaigns -- Russia -- Fiction',\n",
       "  'War stories',\n",
       "  'Historical fiction',\n",
       "  'Russia -- History -- Alexander I, 1801-1825 -- Fiction'],\n",
       " 'formats': [{'url': 'http://www.gutenberg.org/ebooks/2600.epub.noimages',\n",
       "   'formats': ['application/epub+zip'],\n",
       "   'extent': 1342035},\n",
       "  {'url': 'http://www.gutenberg.org/ebooks/2600.kindle.images',\n",
       "   'formats': ['application/x-mobipocket-ebook'],\n",
       "   'extent': 5470783},\n",
       "  {'url': 'http://www.gutenberg.org/ebooks/2600.kindle.noimages',\n",
       "   'formats': ['application/x-mobipocket-ebook'],\n",
       "   'extent': 5470775},\n",
       "  {'url': 'http://www.gutenberg.org/ebooks/2600.epub.images',\n",
       "   'formats': ['application/epub+zip'],\n",
       "   'extent': 1342035},\n",
       "  {'url': 'http://www.gutenberg.org/files/2600/2600-h.zip',\n",
       "   'formats': ['application/zip', 'text/html; charset=utf-8'],\n",
       "   'extent': 1290237},\n",
       "  {'url': 'http://www.gutenberg.org/ebooks/2600.rdf',\n",
       "   'formats': ['application/rdf+xml'],\n",
       "   'extent': 14409},\n",
       "  {'url': 'http://www.gutenberg.org/files/2600/2600-0.zip',\n",
       "   'formats': ['text/plain; charset=utf-8', 'application/zip'],\n",
       "   'extent': 1226208},\n",
       "  {'url': 'http://www.gutenberg.org/files/2600/2600-0.txt',\n",
       "   'formats': ['text/plain; charset=utf-8'],\n",
       "   'extent': 3359542},\n",
       "  {'url': 'http://www.gutenberg.org/files/2600/2600-h/2600-h.htm',\n",
       "   'formats': ['text/html; charset=utf-8'],\n",
       "   'extent': 4072499}],\n",
       " 'links': {'application/epub+zip': 'http://www.gutenberg.org/ebooks/2600.epub.images',\n",
       "  'application/x-mobipocket-ebook': 'http://www.gutenberg.org/ebooks/2600.kindle.noimages',\n",
       "  'application/rdf+xml': 'http://www.gutenberg.org/ebooks/2600.rdf',\n",
       "  'text/plain': 'http://www.gutenberg.org/files/2600/2600-0.txt',\n",
       "  'text/html': 'http://www.gutenberg.org/files/2600/2600-h/2600-h.htm'},\n",
       " 'bookshelves': ['Napoleonic(Bookshelf)',\n",
       "  'Best Books Ever Listings',\n",
       "  'Historical Fiction',\n",
       "  'Opera',\n",
       "  'Movie Books'],\n",
       " 'issued': datetime.datetime(2001, 4, 1, 0, 0, tzinfo=<UTC>),\n",
       " 'rights': 'Public domain in the USA.',\n",
       " 'downloads': 7243,\n",
       " 'publisher': 'Project Gutenberg',\n",
       " 'language': 'en'}"
      ]
     },
     "execution_count": 4,
     "metadata": {},
     "output_type": "execute_result"
    }
   ],
   "source": [
    "dict(b)"
   ]
  },
  {
   "cell_type": "code",
   "execution_count": 5,
   "metadata": {},
   "outputs": [
    {
     "data": {
      "text/plain": [
       "'{\"id\":2600,\"title\":\"War and Peace\",\"creators\":[[[\"deathdate\",\"1910\"],[\"name\",\"Tolstoy, Leo, graf\"],[\"alias\",\"Tolsto\\\\u00ef, L\\\\u00e9on\"],[\"birthdate\",\"1828\"],[\"alias\",\"\\\\u0422\\\\u043e\\\\u043b\\\\u0441\\\\u0442\\\\u043e\\\\u0439, \\\\u041b\\\\u0435\\\\u0432 \\\\u041d\\\\u0438\\\\u043a\\\\u043e\\\\u043b\\\\u0430\\\\u0435\\\\u0432\\\\u0438\\\\u0447\"],[\"alias\",\"Tolstoi, Leo\"],[\"alias\",\"Tolstoy, Graf Leo\"],[\"alias\",\"Tolstoy, Lev N.\"],[\"webpage\",\"http:\\\\/\\\\/en.wikipedia.org\\\\/wiki\\\\/Leo_Tolstoy\"]]],\"author\":\"Tolstoy, Leo, graf\",\"surname\":\"Tolstoy\",\"subjects\":[\"Aristocracy (Social class) -- Russia -- Fiction\",\"PG\",\"Napoleonic Wars, 1800-1815 -- Campaigns -- Russia -- Fiction\",\"War stories\",\"Historical fiction\",\"Russia -- History -- Alexander I, 1801-1825 -- Fiction\"],\"formats\":[{\"url\":\"http:\\\\/\\\\/www.gutenberg.org\\\\/ebooks\\\\/2600.epub.noimages\",\"formats\":[\"application\\\\/epub+zip\"],\"extent\":1342035},{\"url\":\"http:\\\\/\\\\/www.gutenberg.org\\\\/ebooks\\\\/2600.kindle.images\",\"formats\":[\"application\\\\/x-mobipocket-ebook\"],\"extent\":5470783},{\"url\":\"http:\\\\/\\\\/www.gutenberg.org\\\\/ebooks\\\\/2600.kindle.noimages\",\"formats\":[\"application\\\\/x-mobipocket-ebook\"],\"extent\":5470775},{\"url\":\"http:\\\\/\\\\/www.gutenberg.org\\\\/ebooks\\\\/2600.epub.images\",\"formats\":[\"application\\\\/epub+zip\"],\"extent\":1342035},{\"url\":\"http:\\\\/\\\\/www.gutenberg.org\\\\/files\\\\/2600\\\\/2600-h.zip\",\"formats\":[\"application\\\\/zip\",\"text\\\\/html; charset=utf-8\"],\"extent\":1290237},{\"url\":\"http:\\\\/\\\\/www.gutenberg.org\\\\/ebooks\\\\/2600.rdf\",\"formats\":[\"application\\\\/rdf+xml\"],\"extent\":14409},{\"url\":\"http:\\\\/\\\\/www.gutenberg.org\\\\/files\\\\/2600\\\\/2600-0.zip\",\"formats\":[\"text\\\\/plain; charset=utf-8\",\"application\\\\/zip\"],\"extent\":1226208},{\"url\":\"http:\\\\/\\\\/www.gutenberg.org\\\\/files\\\\/2600\\\\/2600-0.txt\",\"formats\":[\"text\\\\/plain; charset=utf-8\"],\"extent\":3359542},{\"url\":\"http:\\\\/\\\\/www.gutenberg.org\\\\/files\\\\/2600\\\\/2600-h\\\\/2600-h.htm\",\"formats\":[\"text\\\\/html; charset=utf-8\"],\"extent\":4072499}],\"links\":{\"application\\\\/epub+zip\":\"http:\\\\/\\\\/www.gutenberg.org\\\\/ebooks\\\\/2600.epub.images\",\"application\\\\/x-mobipocket-ebook\":\"http:\\\\/\\\\/www.gutenberg.org\\\\/ebooks\\\\/2600.kindle.noimages\",\"application\\\\/rdf+xml\":\"http:\\\\/\\\\/www.gutenberg.org\\\\/ebooks\\\\/2600.rdf\",\"text\\\\/plain\":\"http:\\\\/\\\\/www.gutenberg.org\\\\/files\\\\/2600\\\\/2600-0.txt\",\"text\\\\/html\":\"http:\\\\/\\\\/www.gutenberg.org\\\\/files\\\\/2600\\\\/2600-h\\\\/2600-h.htm\"},\"bookshelves\":[\"Napoleonic(Bookshelf)\",\"Best Books Ever Listings\",\"Historical Fiction\",\"Opera\",\"Movie Books\"],\"issued\":986083200,\"rights\":\"Public domain in the USA.\",\"downloads\":7243,\"publisher\":\"Project Gutenberg\",\"language\":\"en\"}'"
      ]
     },
     "execution_count": 5,
     "metadata": {},
     "output_type": "execute_result"
    }
   ],
   "source": [
    "b.to_json()"
   ]
  },
  {
   "cell_type": "code",
   "execution_count": null,
   "metadata": {},
   "outputs": [],
   "source": []
  }
 ],
 "metadata": {
  "kernelspec": {
   "display_name": "Python 3",
   "language": "python",
   "name": "python3"
  },
  "language_info": {
   "codemirror_mode": {
    "name": "ipython",
    "version": 3
   },
   "file_extension": ".py",
   "mimetype": "text/x-python",
   "name": "python",
   "nbconvert_exporter": "python",
   "pygments_lexer": "ipython3",
   "version": "3.7.0"
  }
 },
 "nbformat": 4,
 "nbformat_minor": 2
}
