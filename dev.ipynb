{
 "cells": [
  {
   "cell_type": "code",
   "execution_count": 34,
   "metadata": {},
   "outputs": [],
   "source": [
    "from lxml import etree"
   ]
  },
  {
   "cell_type": "code",
   "execution_count": 303,
   "metadata": {},
   "outputs": [],
   "source": [
    "def numberify(val):\n",
    "    \"\"\"Try to cast str -> int/float.\n",
    "    \n",
    "    Args:\n",
    "        val (str)\n",
    "    \"\"\"\n",
    "    try: return int(val)\n",
    "    except: pass\n",
    "    \n",
    "    try: return float(val)\n",
    "    except: pass\n",
    "    \n",
    "    return val"
   ]
  },
  {
   "cell_type": "code",
   "execution_count": 304,
   "metadata": {},
   "outputs": [],
   "source": [
    "NAMESPACES = {\n",
    "    'dcterms': 'http://purl.org/dc/terms/',\n",
    "    'pgterms': 'http://www.gutenberg.org/2009/pgterms/',\n",
    "    'rdf': 'http://www.w3.org/1999/02/22-rdf-syntax-ns#',\n",
    "}"
   ]
  },
  {
   "cell_type": "code",
   "execution_count": 363,
   "metadata": {},
   "outputs": [],
   "source": [
    "def xpath(root, query, first=False, parser=None):\n",
    "    \"\"\"Query text, parse.\n",
    "    \"\"\"\n",
    "    res = root.xpath(query, namespaces=NAMESPACES)\n",
    "    \n",
    "    if parser:\n",
    "        res = list(map(parser, res))\n",
    "        \n",
    "    if first:\n",
    "        res = res[0] if res else None\n",
    "        \n",
    "    return res"
   ]
  },
  {
   "cell_type": "code",
   "execution_count": 605,
   "metadata": {},
   "outputs": [],
   "source": [
    "class BookXML:\n",
    "    \n",
    "    @classmethod\n",
    "    def from_file(cls, path):\n",
    "        return cls(etree.parse(path))\n",
    "    \n",
    "    def __init__(self, tree):\n",
    "        self.tree = tree\n",
    "    \n",
    "    def id(self):\n",
    "        raw = xpath(self.tree, '//pgterms:ebook/@rdf:about', first=True)\n",
    "        return int(raw.split('/')[-1])\n",
    "    \n",
    "    def title(self):\n",
    "        return xpath(self.tree, '//dcterms:title/text()', first=True)\n",
    "        \n",
    "    def subjects(self):\n",
    "        return xpath(self.tree, '//dcterms:subject//rdf:value/text()')\n",
    "    \n",
    "    def creators_iter(self):\n",
    "        \n",
    "        for root in xpath(self.tree, '//dcterms:creator/pgterms:agent'):\n",
    "            \n",
    "            creator = []\n",
    "            for field in xpath(root, 'pgterms:*'):\n",
    "                \n",
    "                key = etree.QName(field.tag).localname\n",
    "                \n",
    "                val = (xpath(field, './text()', first=True) or\n",
    "                       xpath(field, './@rdf:resource', first=True))\n",
    "                \n",
    "                if val:\n",
    "                    creator.append((key, val))\n",
    "                    \n",
    "            yield creator\n",
    "            \n",
    "    def bookshelves(self):\n",
    "        return xpath(self.tree, '//pgterms:bookshelf//rdf:value/text()')\n",
    "\n",
    "    # TODO: parse dt\n",
    "    def issued(self):\n",
    "        return xpath(self.tree, '//dcterms:issued/text()', first=True)\n",
    "    \n",
    "    def rights(self):\n",
    "        return xpath(self.tree, '//dcterms:rights/text()', first=True)\n",
    "    \n",
    "    def downloads(self):\n",
    "        return xpath(self.tree, '//pgterms:downloads/text()', first=True, parser=numberify)\n",
    "    \n",
    "    def publisher(self):\n",
    "        return xpath(self.tree, '//dcterms:publisher/text()', first=True)\n",
    "    \n",
    "    def language(self):\n",
    "        return xpath(self.tree, '//dcterms:language//rdf:value/text()', first=True)\n",
    "    \n",
    "    # TODO: formats?"
   ]
  },
  {
   "cell_type": "code",
   "execution_count": 594,
   "metadata": {},
   "outputs": [],
   "source": [
    "b = BookXML.from_file('cache/epub/2600/pg2600.rdf')"
   ]
  },
  {
   "cell_type": "code",
   "execution_count": 595,
   "metadata": {},
   "outputs": [
    {
     "data": {
      "text/plain": [
       "2600"
      ]
     },
     "execution_count": 595,
     "metadata": {},
     "output_type": "execute_result"
    }
   ],
   "source": [
    "b.id()"
   ]
  },
  {
   "cell_type": "code",
   "execution_count": 596,
   "metadata": {},
   "outputs": [
    {
     "data": {
      "text/plain": [
       "'War and Peace'"
      ]
     },
     "execution_count": 596,
     "metadata": {},
     "output_type": "execute_result"
    }
   ],
   "source": [
    "b.title()"
   ]
  },
  {
   "cell_type": "code",
   "execution_count": 597,
   "metadata": {},
   "outputs": [
    {
     "data": {
      "text/plain": [
       "['Aristocracy (Social class) -- Russia -- Fiction',\n",
       " 'PG',\n",
       " 'Napoleonic Wars, 1800-1815 -- Campaigns -- Russia -- Fiction',\n",
       " 'War stories',\n",
       " 'Historical fiction',\n",
       " 'Russia -- History -- Alexander I, 1801-1825 -- Fiction']"
      ]
     },
     "execution_count": 597,
     "metadata": {},
     "output_type": "execute_result"
    }
   ],
   "source": [
    "b.subjects()"
   ]
  },
  {
   "cell_type": "code",
   "execution_count": 598,
   "metadata": {},
   "outputs": [
    {
     "data": {
      "text/plain": [
       "[[('deathdate', '1910'),\n",
       "  ('name', 'Tolstoy, Leo, graf'),\n",
       "  ('alias', 'Tolstoï, Léon'),\n",
       "  ('birthdate', '1828'),\n",
       "  ('alias', 'Толстой, Лев Николаевич'),\n",
       "  ('alias', 'Tolstoi, Leo'),\n",
       "  ('alias', 'Tolstoy, Graf Leo'),\n",
       "  ('alias', 'Tolstoy, Lev N.'),\n",
       "  ('webpage', 'http://en.wikipedia.org/wiki/Leo_Tolstoy')]]"
      ]
     },
     "execution_count": 598,
     "metadata": {},
     "output_type": "execute_result"
    }
   ],
   "source": [
    "list(b.creators_iter())"
   ]
  },
  {
   "cell_type": "code",
   "execution_count": 599,
   "metadata": {},
   "outputs": [
    {
     "data": {
      "text/plain": [
       "['Napoleonic(Bookshelf)',\n",
       " 'Best Books Ever Listings',\n",
       " 'Historical Fiction',\n",
       " 'Opera',\n",
       " 'Movie Books']"
      ]
     },
     "execution_count": 599,
     "metadata": {},
     "output_type": "execute_result"
    }
   ],
   "source": [
    "b.bookshelves()"
   ]
  },
  {
   "cell_type": "code",
   "execution_count": 600,
   "metadata": {},
   "outputs": [
    {
     "data": {
      "text/plain": [
       "'2001-04-01'"
      ]
     },
     "execution_count": 600,
     "metadata": {},
     "output_type": "execute_result"
    }
   ],
   "source": [
    "b.issued()"
   ]
  },
  {
   "cell_type": "code",
   "execution_count": 601,
   "metadata": {},
   "outputs": [
    {
     "data": {
      "text/plain": [
       "'Public domain in the USA.'"
      ]
     },
     "execution_count": 601,
     "metadata": {},
     "output_type": "execute_result"
    }
   ],
   "source": [
    "b.rights()"
   ]
  },
  {
   "cell_type": "code",
   "execution_count": 602,
   "metadata": {},
   "outputs": [
    {
     "data": {
      "text/plain": [
       "7243"
      ]
     },
     "execution_count": 602,
     "metadata": {},
     "output_type": "execute_result"
    }
   ],
   "source": [
    "b.downloads()"
   ]
  },
  {
   "cell_type": "code",
   "execution_count": 603,
   "metadata": {},
   "outputs": [
    {
     "data": {
      "text/plain": [
       "'Project Gutenberg'"
      ]
     },
     "execution_count": 603,
     "metadata": {},
     "output_type": "execute_result"
    }
   ],
   "source": [
    "b.publisher()"
   ]
  },
  {
   "cell_type": "code",
   "execution_count": 604,
   "metadata": {},
   "outputs": [
    {
     "data": {
      "text/plain": [
       "'en'"
      ]
     },
     "execution_count": 604,
     "metadata": {},
     "output_type": "execute_result"
    }
   ],
   "source": [
    "b.language()"
   ]
  },
  {
   "cell_type": "code",
   "execution_count": null,
   "metadata": {},
   "outputs": [],
   "source": []
  }
 ],
 "metadata": {
  "kernelspec": {
   "display_name": "Python 3",
   "language": "python",
   "name": "python3"
  },
  "language_info": {
   "codemirror_mode": {
    "name": "ipython",
    "version": 3
   },
   "file_extension": ".py",
   "mimetype": "text/x-python",
   "name": "python",
   "nbconvert_exporter": "python",
   "pygments_lexer": "ipython3",
   "version": "3.7.0"
  }
 },
 "nbformat": 4,
 "nbformat_minor": 2
}
